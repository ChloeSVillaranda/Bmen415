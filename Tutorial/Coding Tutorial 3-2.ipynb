{
 "cells": [
  {
   "cell_type": "code",
   "execution_count": null,
   "metadata": {},
   "outputs": [],
   "source": [
    "# part of this was created by NANDINI VERMA "
   ]
  },
  {
   "cell_type": "code",
   "execution_count": null,
   "metadata": {},
   "outputs": [],
   "source": [
    "import numpy as np\n",
    "import matplotlib.pyplot as plt"
   ]
  },
  {
   "cell_type": "code",
   "execution_count": null,
   "metadata": {},
   "outputs": [],
   "source": [
    "# Sample data for illustration\n",
    "X_train = np.array([[10, 100], [12, 120], [14, 140], [16, 160], [18, 180]])\n",
    "y_train = np.array([40, 45, 50, 55, 60])\n",
    "X_test = np.array([[13, 130], [17, 170]])\n",
    "\n",
    "# KNN regression\n",
    "k = 2"
   ]
  },
  {
   "cell_type": "code",
   "execution_count": null,
   "metadata": {},
   "outputs": [],
   "source": [
    "# Plot the training data points\n",
    "X1 = [x[0] for x in X_train]\n",
    "X2 = [x[1] for x in X_train]\n",
    "plt.scatter(X1, X2, label=\"Training Data\", color=\"blue\")\n",
    "# Plot the testing data points\n",
    "X1test = [x[0] for x in X_test]\n",
    "X2test = [x[1] for x in X_test]\n",
    "plt.scatter(X1test, X2test, label=\"Testing Data\", color=\"red\", marker=\"x\")\n",
    "\n",
    "plt.xlabel(\"X1 Values\")\n",
    "plt.ylabel(\"X2 Values\")\n",
    "plt.legend()\n",
    "plt.show()"
   ]
  },
  {
   "cell_type": "code",
   "execution_count": null,
   "metadata": {},
   "outputs": [],
   "source": [
    "# Make predictions for the test data\n",
    "predictions = []\n",
    "for x_test in X_test:\n",
    "    # Calculate distances between x_test and all data points in X_train\n",
    "    distances = [np.linalg.norm(x_test - x_train) for x_train in X_train]\n",
    "\n",
    "    # Sort data points by distance and get the indices of the K nearest neighbors\n",
    "    k_indices = np.argsort(distances)[:k]\n",
    "\n",
    "    # Get the target values of the K nearest neighbors\n",
    "    k_nearest_neighbors = [y_train[i] for i in k_indices]\n",
    "\n",
    "    # Calculate the regression prediction as the mean of the target values of the K neighbors\n",
    "    prediction = np.mean(k_nearest_neighbors)\n",
    "    predictions.append(prediction)\n",
    "    print('Distance between test data and train data')\n",
    "    print(distances)\n",
    "    print('K-nearest is '+str(k_indices))\n",
    "    print('y values of K-nearest is '+str(k_nearest_neighbors))\n",
    "    print('The prediction is '+str(prediction)+'\\n')"
   ]
  },
  {
   "cell_type": "code",
   "execution_count": null,
   "metadata": {},
   "outputs": [],
   "source": [
    "# Plot the training data points\n",
    "plt.scatter(X_train[:, 0], y_train, label=\"Training Data\", color=\"blue\")\n",
    "# Plot the test data points and their predictions\n",
    "plt.scatter(X_test[:, 0], predictions, label=\"Test Predictions\", color=\"red\", marker=\"x\")\n",
    "\n",
    "plt.xlabel(\"X1 Values\")\n",
    "plt.ylabel(\"Y Values\")\n",
    "plt.legend()\n",
    "plt.show()"
   ]
  }
 ],
 "metadata": {
  "kernelspec": {
   "display_name": "Python 3",
   "language": "python",
   "name": "python3"
  },
  "language_info": {
   "codemirror_mode": {
    "name": "ipython",
    "version": 3
   },
   "file_extension": ".py",
   "mimetype": "text/x-python",
   "name": "python",
   "nbconvert_exporter": "python",
   "pygments_lexer": "ipython3",
   "version": "3.10.6"
  }
 },
 "nbformat": 4,
 "nbformat_minor": 4
}
